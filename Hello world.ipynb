{
 "cells": [
  {
   "cell_type": "code",
   "execution_count": 1,
   "id": "68967d9d",
   "metadata": {},
   "outputs": [
    {
     "name": "stdout",
     "output_type": "stream",
     "text": [
      "hello world\n"
     ]
    }
   ],
   "source": [
    "print(\"hello world\")"
   ]
  },
  {
   "cell_type": "code",
   "execution_count": 2,
   "id": "e5196b81",
   "metadata": {},
   "outputs": [
    {
     "name": "stdout",
     "output_type": "stream",
     "text": [
      "Making changes for the new repository.\n"
     ]
    }
   ],
   "source": [
    "print(\"Making changes for the new repository.\")"
   ]
  },
  {
   "cell_type": "code",
   "execution_count": 1,
   "id": "75db25f6",
   "metadata": {},
   "outputs": [
    {
     "name": "stdout",
     "output_type": "stream",
     "text": [
      "Hello Ms. Ranjeeta\n",
      "Hello Ms. Ranjeeta\n",
      "Hello Ms. Ranjeeta\n",
      "Hello Ms. Ranjeeta\n",
      "Hello Ms. Ranjeeta\n",
      "Hello Ms. Ranjeeta\n",
      "Hello Ms. Ranjeeta\n",
      "Hello Ms. Ranjeeta\n",
      "Hello Ms. Ranjeeta\n",
      "Hello Ms. Ranjeeta\n"
     ]
    }
   ],
   "source": [
    "for i in range(10):\n",
    "    print(\"Hello Ms. Ranjeeta\")"
   ]
  },
  {
   "cell_type": "code",
   "execution_count": null,
   "id": "de7b4073",
   "metadata": {},
   "outputs": [],
   "source": []
  }
 ],
 "metadata": {
  "kernelspec": {
   "display_name": "Python 3 (ipykernel)",
   "language": "python",
   "name": "python3"
  },
  "language_info": {
   "codemirror_mode": {
    "name": "ipython",
    "version": 3
   },
   "file_extension": ".py",
   "mimetype": "text/x-python",
   "name": "python",
   "nbconvert_exporter": "python",
   "pygments_lexer": "ipython3",
   "version": "3.10.13"
  }
 },
 "nbformat": 4,
 "nbformat_minor": 5
}
